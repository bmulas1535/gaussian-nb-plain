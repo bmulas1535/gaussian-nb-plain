{
 "cells": [
  {
   "cell_type": "markdown",
   "metadata": {},
   "source": [
    "# Head to head comparison\n",
    "\n",
    "In this notebook, I will explore how well my own \"from scratch\" implementation of a Gaussian Naive Bayes classifier compares to the scikit-learn model. For this test, I will utilize the sklearn `make_classification` function to create a series of classification tasks that gradually increase in difficulty. Both models will created with comparatively similar hyperparameters and scored on each of the classification tasks."
   ]
  },
  {
   "cell_type": "code",
   "execution_count": 35,
   "metadata": {},
   "outputs": [],
   "source": [
    "from nb import NaiveBayes\n",
    "from sklearn.datasets import make_classification\n",
    "from sklearn.naive_bayes import GaussianNB\n",
    "from sklearn.metrics import classification_report, accuracy_score, recall_score, roc_auc_score"
   ]
  },
  {
   "cell_type": "code",
   "execution_count": 36,
   "metadata": {},
   "outputs": [],
   "source": [
    "data = dict()\n",
    "for i in range(1,11):\n",
    "    # create new data\n",
    "    data[i] = dict()\n",
    "    data[i]['x'], data[i]['y'] = make_classification(\n",
    "        n_samples=500,\n",
    "        n_features=8,\n",
    "        n_informative=3,\n",
    "        n_clusters_per_class=1,\n",
    "        # Gradually move the clusters closer together to create\n",
    "        # harder classification tasks\n",
    "        class_sep=(1/i)/0.3,\n",
    "        random_state=42\n",
    "    )"
   ]
  },
  {
   "cell_type": "code",
   "execution_count": 37,
   "metadata": {},
   "outputs": [],
   "source": [
    "# Score my GNB model on all datasets\n",
    "my_model = dict()\n",
    "for i in range(1, 11):\n",
    "    my_model[i] = dict()\n",
    "    my_model[i]['model'] = NaiveBayes()\n",
    "    my_model[i]['model'].fit(data[i]['x'], data[i]['y'])\n",
    "    my_model[i]['score'] = my_model[i]['model'].accuracy_score(data[i]['x'], data[i]['y'])"
   ]
  },
  {
   "cell_type": "code",
   "execution_count": 38,
   "metadata": {},
   "outputs": [],
   "source": [
    "# Score the Scikit-learn GaussianNB model on all datasets\n",
    "skl_model = dict()\n",
    "for i in range(1, 11):\n",
    "    skl_model[i] = dict()\n",
    "    skl_model[i]['model'] = GaussianNB()\n",
    "    skl_model[i]['model'].fit(data[i]['x'], data[i]['y'])\n",
    "    skl_model[i]['score'] = skl_model[i]['model'].score(data[i]['x'], data[i]['y'])"
   ]
  },
  {
   "cell_type": "code",
   "execution_count": 64,
   "metadata": {},
   "outputs": [
    {
     "data": {
      "image/png": "[encoded data removed]",
      "text/plain": [
       "<Figure size 576x396 with 1 Axes>"
      ]
     },
     "metadata": {
      "needs_background": "light"
     },
     "output_type": "display_data"
    }
   ],
   "source": [
    "import matplotlib.pyplot as plt\n",
    "import seaborn as sns\n",
    "\n",
    "# Plot the scores for each model\n",
    "fig, ((ax1)) = plt.subplots(1,1, figsize=(8,5.5), facecolor=None)\n",
    "ax1 = sns.lineplot(\n",
    "    x=range(1,11), y=[my_model[i]['score'] - 0.005 for i in my_model],\n",
    "    label=\"From Scratch Model\"\n",
    "    )\n",
    "ax1 = sns.lineplot(\n",
    "    x=range(1,11), y=[skl_model[i]['score'] for i in skl_model],\n",
    "    label=\"Scikit-Learn Model\"\n",
    "    )\n",
    "\n",
    "ax1.set_facecolor(\"None\")\n",
    "# Title, axis labels, etc..\n",
    "plt.suptitle(\"The GaussianNB models perform identically on the generated data.\",\n",
    "         fontweight='bold', fontsize=12)\n",
    "plt.title(\"0.05% seperation to show identical slope\")\n",
    "plt.xlabel(\"Datasets - Complexity Rising ==>\")\n",
    "plt.xticks([1,2,3,4,5,6,7,8,9,10])\n",
    "plt.ylabel(\"Accuracy\")\n",
    "plt.yticks([0, 0.25, 0.5, 0.75, 1], [\"0%\", \"25%\", \"50%\", \"75%\", \"100%\"])\n",
    "plt.grid(True)"
   ]
  },
  {
   "cell_type": "code",
   "execution_count": 40,
   "metadata": {},
   "outputs": [
    {
     "name": "stdout",
     "output_type": "stream",
     "text": [
      "0.996\n",
      "0.988\n",
      "0.95\n",
      "0.902\n",
      "0.876\n",
      "0.852\n",
      "0.834\n",
      "0.818\n",
      "0.8\n",
      "0.792\n"
     ]
    }
   ],
   "source": [
    "for i in my_model:\n",
    "    print(my_model[i]['score'])"
   ]
  },
  {
   "cell_type": "code",
   "execution_count": 41,
   "metadata": {},
   "outputs": [
    {
     "name": "stdout",
     "output_type": "stream",
     "text": [
      "0.996\n",
      "0.988\n",
      "0.95\n",
      "0.902\n",
      "0.876\n",
      "0.852\n",
      "0.834\n",
      "0.818\n",
      "0.8\n",
      "0.792\n"
     ]
    }
   ],
   "source": [
    "for i in skl_model:\n",
    "    print(skl_model[i]['score'])"
   ]
  },
  {
   "cell_type": "markdown",
   "metadata": {},
   "source": [
    "# Result:\n",
    "\n",
    "These results are not surprising. The implementation, while not 100% identical, is _very_ similar. In practice with generated data, it would be more surprising if there were any deviation in model performance. With this test, I can safely conclude that my implementation of a Gaussian Naive Bayes classifier, while elementary and inefficient compared to sklearn's, works to a satisfactory degree."
   ]
  },
  {
   "cell_type": "code",
   "execution_count": null,
   "metadata": {},
   "outputs": [],
   "source": []
  }
 ],
 "metadata": {
  "kernelspec": {
   "display_name": "Python 3.8 Base",
   "language": "python",
   "name": "py_38"
  },
  "language_info": {
   "codemirror_mode": {
    "name": "ipython",
    "version": 3
   },
   "file_extension": ".py",
   "mimetype": "text/x-python",
   "name": "python",
   "nbconvert_exporter": "python",
   "pygments_lexer": "ipython3",
   "version": "3.8.5"
  }
 },
 "nbformat": 4,
 "nbformat_minor": 4
}
